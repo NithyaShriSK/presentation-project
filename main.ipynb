{
 "cells": [
  {
   "cell_type": "code",
   "execution_count": 131,
   "id": "7e2a0e25",
   "metadata": {},
   "outputs": [],
   "source": [
    "import pandas as pd \n",
    "import numpy as np \n",
    "import seaborn as sns \n",
    "import matplotlib.pyplot as plt\n",
    "from sklearn.preprocessing import LabelEncoder\n",
    "from sklearn.model_selection import GridSearchCV,train_test_split\n",
    "from sklearn.linear_model import LogisticRegression\n",
    "from sklearn.ensemble import RandomForestClassifier\n",
    "from sklearn.metrics import r2_score,accuracy_score,recall_score,precision_score,confusion_matrix,f1_score"
   ]
  },
  {
   "cell_type": "code",
   "execution_count": 132,
   "id": "a58f442e",
   "metadata": {},
   "outputs": [
    {
     "data": {
      "text/html": [
       "<div>\n",
       "<style scoped>\n",
       "    .dataframe tbody tr th:only-of-type {\n",
       "        vertical-align: middle;\n",
       "    }\n",
       "\n",
       "    .dataframe tbody tr th {\n",
       "        vertical-align: top;\n",
       "    }\n",
       "\n",
       "    .dataframe thead th {\n",
       "        text-align: right;\n",
       "    }\n",
       "</style>\n",
       "<table border=\"1\" class=\"dataframe\">\n",
       "  <thead>\n",
       "    <tr style=\"text-align: right;\">\n",
       "      <th></th>\n",
       "      <th>Student_ID</th>\n",
       "      <th>Gender</th>\n",
       "      <th>Study_Hours_per_Week</th>\n",
       "      <th>Attendance_Rate</th>\n",
       "      <th>Past_Exam_Scores</th>\n",
       "      <th>Parental_Education_Level</th>\n",
       "      <th>Internet_Access_at_Home</th>\n",
       "      <th>Extracurricular_Activities</th>\n",
       "      <th>Final_Exam_Score</th>\n",
       "      <th>Pass_Fail</th>\n",
       "    </tr>\n",
       "  </thead>\n",
       "  <tbody>\n",
       "    <tr>\n",
       "      <th>0</th>\n",
       "      <td>S147</td>\n",
       "      <td>Male</td>\n",
       "      <td>31</td>\n",
       "      <td>68.267841</td>\n",
       "      <td>86</td>\n",
       "      <td>High School</td>\n",
       "      <td>Yes</td>\n",
       "      <td>Yes</td>\n",
       "      <td>63</td>\n",
       "      <td>Pass</td>\n",
       "    </tr>\n",
       "    <tr>\n",
       "      <th>1</th>\n",
       "      <td>S136</td>\n",
       "      <td>Male</td>\n",
       "      <td>16</td>\n",
       "      <td>78.222927</td>\n",
       "      <td>73</td>\n",
       "      <td>PhD</td>\n",
       "      <td>No</td>\n",
       "      <td>No</td>\n",
       "      <td>50</td>\n",
       "      <td>Fail</td>\n",
       "    </tr>\n",
       "    <tr>\n",
       "      <th>2</th>\n",
       "      <td>S209</td>\n",
       "      <td>Female</td>\n",
       "      <td>21</td>\n",
       "      <td>87.525096</td>\n",
       "      <td>74</td>\n",
       "      <td>PhD</td>\n",
       "      <td>Yes</td>\n",
       "      <td>No</td>\n",
       "      <td>55</td>\n",
       "      <td>Fail</td>\n",
       "    </tr>\n",
       "    <tr>\n",
       "      <th>3</th>\n",
       "      <td>S458</td>\n",
       "      <td>Female</td>\n",
       "      <td>27</td>\n",
       "      <td>92.076483</td>\n",
       "      <td>99</td>\n",
       "      <td>Bachelors</td>\n",
       "      <td>No</td>\n",
       "      <td>No</td>\n",
       "      <td>65</td>\n",
       "      <td>Pass</td>\n",
       "    </tr>\n",
       "    <tr>\n",
       "      <th>4</th>\n",
       "      <td>S078</td>\n",
       "      <td>Female</td>\n",
       "      <td>37</td>\n",
       "      <td>98.655517</td>\n",
       "      <td>63</td>\n",
       "      <td>Masters</td>\n",
       "      <td>No</td>\n",
       "      <td>Yes</td>\n",
       "      <td>70</td>\n",
       "      <td>Pass</td>\n",
       "    </tr>\n",
       "    <tr>\n",
       "      <th>5</th>\n",
       "      <td>S417</td>\n",
       "      <td>Male</td>\n",
       "      <td>30</td>\n",
       "      <td>84.159193</td>\n",
       "      <td>77</td>\n",
       "      <td>Masters</td>\n",
       "      <td>Yes</td>\n",
       "      <td>No</td>\n",
       "      <td>61</td>\n",
       "      <td>Pass</td>\n",
       "    </tr>\n",
       "    <tr>\n",
       "      <th>6</th>\n",
       "      <td>S302</td>\n",
       "      <td>Male</td>\n",
       "      <td>24</td>\n",
       "      <td>89.389494</td>\n",
       "      <td>95</td>\n",
       "      <td>High School</td>\n",
       "      <td>Yes</td>\n",
       "      <td>Yes</td>\n",
       "      <td>61</td>\n",
       "      <td>Pass</td>\n",
       "    </tr>\n",
       "    <tr>\n",
       "      <th>7</th>\n",
       "      <td>S009</td>\n",
       "      <td>Male</td>\n",
       "      <td>31</td>\n",
       "      <td>50.683598</td>\n",
       "      <td>78</td>\n",
       "      <td>Masters</td>\n",
       "      <td>No</td>\n",
       "      <td>No</td>\n",
       "      <td>50</td>\n",
       "      <td>Fail</td>\n",
       "    </tr>\n",
       "    <tr>\n",
       "      <th>8</th>\n",
       "      <td>S044</td>\n",
       "      <td>Female</td>\n",
       "      <td>34</td>\n",
       "      <td>80.863186</td>\n",
       "      <td>94</td>\n",
       "      <td>PhD</td>\n",
       "      <td>No</td>\n",
       "      <td>Yes</td>\n",
       "      <td>65</td>\n",
       "      <td>Pass</td>\n",
       "    </tr>\n",
       "    <tr>\n",
       "      <th>9</th>\n",
       "      <td>S331</td>\n",
       "      <td>Male</td>\n",
       "      <td>27</td>\n",
       "      <td>65.496846</td>\n",
       "      <td>86</td>\n",
       "      <td>High School</td>\n",
       "      <td>Yes</td>\n",
       "      <td>No</td>\n",
       "      <td>55</td>\n",
       "      <td>Fail</td>\n",
       "    </tr>\n",
       "  </tbody>\n",
       "</table>\n",
       "</div>"
      ],
      "text/plain": [
       "  Student_ID  Gender  Study_Hours_per_Week  Attendance_Rate  Past_Exam_Scores  \\\n",
       "0       S147    Male                    31        68.267841                86   \n",
       "1       S136    Male                    16        78.222927                73   \n",
       "2       S209  Female                    21        87.525096                74   \n",
       "3       S458  Female                    27        92.076483                99   \n",
       "4       S078  Female                    37        98.655517                63   \n",
       "5       S417    Male                    30        84.159193                77   \n",
       "6       S302    Male                    24        89.389494                95   \n",
       "7       S009    Male                    31        50.683598                78   \n",
       "8       S044  Female                    34        80.863186                94   \n",
       "9       S331    Male                    27        65.496846                86   \n",
       "\n",
       "  Parental_Education_Level Internet_Access_at_Home Extracurricular_Activities  \\\n",
       "0              High School                     Yes                        Yes   \n",
       "1                      PhD                      No                         No   \n",
       "2                      PhD                     Yes                         No   \n",
       "3                Bachelors                      No                         No   \n",
       "4                  Masters                      No                        Yes   \n",
       "5                  Masters                     Yes                         No   \n",
       "6              High School                     Yes                        Yes   \n",
       "7                  Masters                      No                         No   \n",
       "8                      PhD                      No                        Yes   \n",
       "9              High School                     Yes                         No   \n",
       "\n",
       "   Final_Exam_Score Pass_Fail  \n",
       "0                63      Pass  \n",
       "1                50      Fail  \n",
       "2                55      Fail  \n",
       "3                65      Pass  \n",
       "4                70      Pass  \n",
       "5                61      Pass  \n",
       "6                61      Pass  \n",
       "7                50      Fail  \n",
       "8                65      Pass  \n",
       "9                55      Fail  "
      ]
     },
     "execution_count": 132,
     "metadata": {},
     "output_type": "execute_result"
    }
   ],
   "source": [
    "df=pd.read_csv(\"student_performance_dataset.csv\")\n",
    "df.head(10)"
   ]
  },
  {
   "cell_type": "code",
   "execution_count": 133,
   "id": "10356ee7",
   "metadata": {},
   "outputs": [
    {
     "data": {
      "text/plain": [
       "array(['Yes', 'No'], dtype=object)"
      ]
     },
     "execution_count": 133,
     "metadata": {},
     "output_type": "execute_result"
    }
   ],
   "source": [
    "df[\"Internet_Access_at_Home\"].unique()"
   ]
  },
  {
   "cell_type": "code",
   "execution_count": 134,
   "id": "80962359",
   "metadata": {},
   "outputs": [
    {
     "data": {
      "text/plain": [
       "Student_ID                    0\n",
       "Gender                        0\n",
       "Study_Hours_per_Week          0\n",
       "Attendance_Rate               0\n",
       "Past_Exam_Scores              0\n",
       "Parental_Education_Level      0\n",
       "Internet_Access_at_Home       0\n",
       "Extracurricular_Activities    0\n",
       "Final_Exam_Score              0\n",
       "Pass_Fail                     0\n",
       "dtype: int64"
      ]
     },
     "execution_count": 134,
     "metadata": {},
     "output_type": "execute_result"
    }
   ],
   "source": [
    "df.isnull().sum()"
   ]
  },
  {
   "cell_type": "code",
   "execution_count": 135,
   "id": "8eb96cae",
   "metadata": {},
   "outputs": [
    {
     "data": {
      "text/plain": [
       "np.int64(208)"
      ]
     },
     "execution_count": 135,
     "metadata": {},
     "output_type": "execute_result"
    }
   ],
   "source": [
    "df.duplicated().sum()"
   ]
  },
  {
   "cell_type": "code",
   "execution_count": 136,
   "id": "8453bce1",
   "metadata": {},
   "outputs": [],
   "source": [
    "df.drop_duplicates(inplace=True)"
   ]
  },
  {
   "cell_type": "code",
   "execution_count": 137,
   "id": "f648e275",
   "metadata": {},
   "outputs": [
    {
     "data": {
      "text/plain": [
       "(500, 10)"
      ]
     },
     "execution_count": 137,
     "metadata": {},
     "output_type": "execute_result"
    }
   ],
   "source": [
    "df.shape"
   ]
  },
  {
   "cell_type": "code",
   "execution_count": 138,
   "id": "54ea1ddf",
   "metadata": {},
   "outputs": [
    {
     "name": "stdout",
     "output_type": "stream",
     "text": [
      "<class 'pandas.core.frame.DataFrame'>\n",
      "Index: 500 entries, 0 to 707\n",
      "Data columns (total 10 columns):\n",
      " #   Column                      Non-Null Count  Dtype  \n",
      "---  ------                      --------------  -----  \n",
      " 0   Student_ID                  500 non-null    object \n",
      " 1   Gender                      500 non-null    object \n",
      " 2   Study_Hours_per_Week        500 non-null    int64  \n",
      " 3   Attendance_Rate             500 non-null    float64\n",
      " 4   Past_Exam_Scores            500 non-null    int64  \n",
      " 5   Parental_Education_Level    500 non-null    object \n",
      " 6   Internet_Access_at_Home     500 non-null    object \n",
      " 7   Extracurricular_Activities  500 non-null    object \n",
      " 8   Final_Exam_Score            500 non-null    int64  \n",
      " 9   Pass_Fail                   500 non-null    object \n",
      "dtypes: float64(1), int64(3), object(6)\n",
      "memory usage: 43.0+ KB\n"
     ]
    }
   ],
   "source": [
    "df.info()"
   ]
  },
  {
   "cell_type": "code",
   "execution_count": 139,
   "id": "31152039",
   "metadata": {},
   "outputs": [
    {
     "data": {
      "text/html": [
       "<div>\n",
       "<style scoped>\n",
       "    .dataframe tbody tr th:only-of-type {\n",
       "        vertical-align: middle;\n",
       "    }\n",
       "\n",
       "    .dataframe tbody tr th {\n",
       "        vertical-align: top;\n",
       "    }\n",
       "\n",
       "    .dataframe thead th {\n",
       "        text-align: right;\n",
       "    }\n",
       "</style>\n",
       "<table border=\"1\" class=\"dataframe\">\n",
       "  <thead>\n",
       "    <tr style=\"text-align: right;\">\n",
       "      <th></th>\n",
       "      <th>Study_Hours_per_Week</th>\n",
       "      <th>Attendance_Rate</th>\n",
       "      <th>Past_Exam_Scores</th>\n",
       "      <th>Final_Exam_Score</th>\n",
       "    </tr>\n",
       "  </thead>\n",
       "  <tbody>\n",
       "    <tr>\n",
       "      <th>count</th>\n",
       "      <td>500.000000</td>\n",
       "      <td>500.000000</td>\n",
       "      <td>500.000000</td>\n",
       "      <td>500.000000</td>\n",
       "    </tr>\n",
       "    <tr>\n",
       "      <th>mean</th>\n",
       "      <td>25.184000</td>\n",
       "      <td>75.830689</td>\n",
       "      <td>75.218000</td>\n",
       "      <td>56.378000</td>\n",
       "    </tr>\n",
       "    <tr>\n",
       "      <th>std</th>\n",
       "      <td>8.804384</td>\n",
       "      <td>13.969186</td>\n",
       "      <td>14.442841</td>\n",
       "      <td>6.266551</td>\n",
       "    </tr>\n",
       "    <tr>\n",
       "      <th>min</th>\n",
       "      <td>10.000000</td>\n",
       "      <td>50.116970</td>\n",
       "      <td>50.000000</td>\n",
       "      <td>50.000000</td>\n",
       "    </tr>\n",
       "    <tr>\n",
       "      <th>25%</th>\n",
       "      <td>18.000000</td>\n",
       "      <td>64.959340</td>\n",
       "      <td>62.000000</td>\n",
       "      <td>50.000000</td>\n",
       "    </tr>\n",
       "    <tr>\n",
       "      <th>50%</th>\n",
       "      <td>26.000000</td>\n",
       "      <td>76.752661</td>\n",
       "      <td>75.500000</td>\n",
       "      <td>55.000000</td>\n",
       "    </tr>\n",
       "    <tr>\n",
       "      <th>75%</th>\n",
       "      <td>33.000000</td>\n",
       "      <td>87.548861</td>\n",
       "      <td>88.000000</td>\n",
       "      <td>61.000000</td>\n",
       "    </tr>\n",
       "    <tr>\n",
       "      <th>max</th>\n",
       "      <td>39.000000</td>\n",
       "      <td>99.967675</td>\n",
       "      <td>100.000000</td>\n",
       "      <td>77.000000</td>\n",
       "    </tr>\n",
       "  </tbody>\n",
       "</table>\n",
       "</div>"
      ],
      "text/plain": [
       "       Study_Hours_per_Week  Attendance_Rate  Past_Exam_Scores  \\\n",
       "count            500.000000       500.000000        500.000000   \n",
       "mean              25.184000        75.830689         75.218000   \n",
       "std                8.804384        13.969186         14.442841   \n",
       "min               10.000000        50.116970         50.000000   \n",
       "25%               18.000000        64.959340         62.000000   \n",
       "50%               26.000000        76.752661         75.500000   \n",
       "75%               33.000000        87.548861         88.000000   \n",
       "max               39.000000        99.967675        100.000000   \n",
       "\n",
       "       Final_Exam_Score  \n",
       "count        500.000000  \n",
       "mean          56.378000  \n",
       "std            6.266551  \n",
       "min           50.000000  \n",
       "25%           50.000000  \n",
       "50%           55.000000  \n",
       "75%           61.000000  \n",
       "max           77.000000  "
      ]
     },
     "execution_count": 139,
     "metadata": {},
     "output_type": "execute_result"
    }
   ],
   "source": [
    "df.describe()"
   ]
  },
  {
   "cell_type": "code",
   "execution_count": 140,
   "id": "c6fbf7f0",
   "metadata": {},
   "outputs": [
    {
     "data": {
      "text/plain": [
       "{'whiskers': [<matplotlib.lines.Line2D at 0x18112aa2490>,\n",
       "  <matplotlib.lines.Line2D at 0x18112aa25d0>],\n",
       " 'caps': [<matplotlib.lines.Line2D at 0x18112aa2710>,\n",
       "  <matplotlib.lines.Line2D at 0x18112aa2850>],\n",
       " 'boxes': [<matplotlib.lines.Line2D at 0x18112aa2350>],\n",
       " 'medians': [<matplotlib.lines.Line2D at 0x18112aa2990>],\n",
       " 'fliers': [<matplotlib.lines.Line2D at 0x18112aa2ad0>],\n",
       " 'means': []}"
      ]
     },
     "execution_count": 140,
     "metadata": {},
     "output_type": "execute_result"
    },
    {
     "data": {
      "image/png": "[encoded data removed]",
      "text/plain": [
       "<Figure size 640x480 with 1 Axes>"
      ]
     },
     "metadata": {},
     "output_type": "display_data"
    }
   ],
   "source": [
    "plt.boxplot(df[\"Attendance_Rate\"])"
   ]
  },
  {
   "cell_type": "code",
   "execution_count": 141,
   "id": "d08bc7e7",
   "metadata": {},
   "outputs": [
    {
     "data": {
      "text/plain": [
       "{'whiskers': [<matplotlib.lines.Line2D at 0x181128f9590>,\n",
       "  <matplotlib.lines.Line2D at 0x181128f96d0>],\n",
       " 'caps': [<matplotlib.lines.Line2D at 0x181128f9810>,\n",
       "  <matplotlib.lines.Line2D at 0x181128f9950>],\n",
       " 'boxes': [<matplotlib.lines.Line2D at 0x181128f9450>],\n",
       " 'medians': [<matplotlib.lines.Line2D at 0x181128f9a90>],\n",
       " 'fliers': [<matplotlib.lines.Line2D at 0x181128f9bd0>],\n",
       " 'means': []}"
      ]
     },
     "execution_count": 141,
     "metadata": {},
     "output_type": "execute_result"
    },
    {
     "data": {
      "image/png": "[encoded data removed]",
      "text/plain": [
       "<Figure size 640x480 with 1 Axes>"
      ]
     },
     "metadata": {},
     "output_type": "display_data"
    }
   ],
   "source": [
    "plt.boxplot(df[\"Study_Hours_per_Week\"])"
   ]
  },
  {
   "cell_type": "code",
   "execution_count": 142,
   "id": "0fec7d2a",
   "metadata": {},
   "outputs": [
    {
     "data": {
      "text/plain": [
       "{'whiskers': [<matplotlib.lines.Line2D at 0x18112960e10>,\n",
       "  <matplotlib.lines.Line2D at 0x18112960f50>],\n",
       " 'caps': [<matplotlib.lines.Line2D at 0x18112961090>,\n",
       "  <matplotlib.lines.Line2D at 0x181129611d0>],\n",
       " 'boxes': [<matplotlib.lines.Line2D at 0x18112960cd0>],\n",
       " 'medians': [<matplotlib.lines.Line2D at 0x18112961310>],\n",
       " 'fliers': [<matplotlib.lines.Line2D at 0x18112961450>],\n",
       " 'means': []}"
      ]
     },
     "execution_count": 142,
     "metadata": {},
     "output_type": "execute_result"
    },
    {
     "data": {
      "image/png": "[encoded data removed]",
      "text/plain": [
       "<Figure size 640x480 with 1 Axes>"
      ]
     },
     "metadata": {},
     "output_type": "display_data"
    }
   ],
   "source": [
    "plt.boxplot(df[\"Past_Exam_Scores\"])"
   ]
  },
  {
   "cell_type": "code",
   "execution_count": 143,
   "id": "17843e75",
   "metadata": {},
   "outputs": [
    {
     "data": {
      "text/plain": [
       "{'whiskers': [<matplotlib.lines.Line2D at 0x18113bd7ed0>,\n",
       "  <matplotlib.lines.Line2D at 0x18113c1c050>],\n",
       " 'caps': [<matplotlib.lines.Line2D at 0x18113c1c190>,\n",
       "  <matplotlib.lines.Line2D at 0x18113c1c2d0>],\n",
       " 'boxes': [<matplotlib.lines.Line2D at 0x18113bd7d90>],\n",
       " 'medians': [<matplotlib.lines.Line2D at 0x18113c1c410>],\n",
       " 'fliers': [<matplotlib.lines.Line2D at 0x18113c1c550>],\n",
       " 'means': []}"
      ]
     },
     "execution_count": 143,
     "metadata": {},
     "output_type": "execute_result"
    },
    {
     "data": {
      "image/png": "[encoded data removed]",
      "text/plain": [
       "<Figure size 640x480 with 1 Axes>"
      ]
     },
     "metadata": {},
     "output_type": "display_data"
    }
   ],
   "source": [
    "plt.boxplot(df[\"Final_Exam_Score\"])"
   ]
  },
  {
   "cell_type": "code",
   "execution_count": 144,
   "id": "69249560",
   "metadata": {},
   "outputs": [],
   "source": [
    "lab=LabelEncoder()\n",
    "df[\"Gender\"]=lab.fit_transform(df[\"Gender\"])\n",
    "df[\"Pass_Fail\"]=lab.fit_transform(df[\"Pass_Fail\"])\n",
    "df[\"Parental_Education_Level\"]=lab.fit_transform(df[\"Parental_Education_Level\"])\n",
    "df[\"Internet_Access_at_Home\"]=lab.fit_transform(df[\"Internet_Access_at_Home\"])\n",
    "df[\"Extracurricular_Activities\"]=lab.fit_transform(df[\"Extracurricular_Activities\"])"
   ]
  },
  {
   "cell_type": "code",
   "execution_count": 145,
   "id": "c5fae46e",
   "metadata": {},
   "outputs": [],
   "source": [
    "df.drop(columns=[\"Student_ID\"],inplace=True)"
   ]
  },
  {
   "cell_type": "code",
   "execution_count": 146,
   "id": "ccbb99b4",
   "metadata": {},
   "outputs": [
    {
     "data": {
      "text/html": [
       "<div>\n",
       "<style scoped>\n",
       "    .dataframe tbody tr th:only-of-type {\n",
       "        vertical-align: middle;\n",
       "    }\n",
       "\n",
       "    .dataframe tbody tr th {\n",
       "        vertical-align: top;\n",
       "    }\n",
       "\n",
       "    .dataframe thead th {\n",
       "        text-align: right;\n",
       "    }\n",
       "</style>\n",
       "<table border=\"1\" class=\"dataframe\">\n",
       "  <thead>\n",
       "    <tr style=\"text-align: right;\">\n",
       "      <th></th>\n",
       "      <th>Gender</th>\n",
       "      <th>Study_Hours_per_Week</th>\n",
       "      <th>Attendance_Rate</th>\n",
       "      <th>Past_Exam_Scores</th>\n",
       "      <th>Parental_Education_Level</th>\n",
       "      <th>Internet_Access_at_Home</th>\n",
       "      <th>Extracurricular_Activities</th>\n",
       "      <th>Final_Exam_Score</th>\n",
       "      <th>Pass_Fail</th>\n",
       "    </tr>\n",
       "  </thead>\n",
       "  <tbody>\n",
       "    <tr>\n",
       "      <th>0</th>\n",
       "      <td>1</td>\n",
       "      <td>31</td>\n",
       "      <td>68.267841</td>\n",
       "      <td>86</td>\n",
       "      <td>1</td>\n",
       "      <td>1</td>\n",
       "      <td>1</td>\n",
       "      <td>63</td>\n",
       "      <td>1</td>\n",
       "    </tr>\n",
       "    <tr>\n",
       "      <th>1</th>\n",
       "      <td>1</td>\n",
       "      <td>16</td>\n",
       "      <td>78.222927</td>\n",
       "      <td>73</td>\n",
       "      <td>3</td>\n",
       "      <td>0</td>\n",
       "      <td>0</td>\n",
       "      <td>50</td>\n",
       "      <td>0</td>\n",
       "    </tr>\n",
       "    <tr>\n",
       "      <th>2</th>\n",
       "      <td>0</td>\n",
       "      <td>21</td>\n",
       "      <td>87.525096</td>\n",
       "      <td>74</td>\n",
       "      <td>3</td>\n",
       "      <td>1</td>\n",
       "      <td>0</td>\n",
       "      <td>55</td>\n",
       "      <td>0</td>\n",
       "    </tr>\n",
       "    <tr>\n",
       "      <th>3</th>\n",
       "      <td>0</td>\n",
       "      <td>27</td>\n",
       "      <td>92.076483</td>\n",
       "      <td>99</td>\n",
       "      <td>0</td>\n",
       "      <td>0</td>\n",
       "      <td>0</td>\n",
       "      <td>65</td>\n",
       "      <td>1</td>\n",
       "    </tr>\n",
       "    <tr>\n",
       "      <th>4</th>\n",
       "      <td>0</td>\n",
       "      <td>37</td>\n",
       "      <td>98.655517</td>\n",
       "      <td>63</td>\n",
       "      <td>2</td>\n",
       "      <td>0</td>\n",
       "      <td>1</td>\n",
       "      <td>70</td>\n",
       "      <td>1</td>\n",
       "    </tr>\n",
       "  </tbody>\n",
       "</table>\n",
       "</div>"
      ],
      "text/plain": [
       "   Gender  Study_Hours_per_Week  Attendance_Rate  Past_Exam_Scores  \\\n",
       "0       1                    31        68.267841                86   \n",
       "1       1                    16        78.222927                73   \n",
       "2       0                    21        87.525096                74   \n",
       "3       0                    27        92.076483                99   \n",
       "4       0                    37        98.655517                63   \n",
       "\n",
       "   Parental_Education_Level  Internet_Access_at_Home  \\\n",
       "0                         1                        1   \n",
       "1                         3                        0   \n",
       "2                         3                        1   \n",
       "3                         0                        0   \n",
       "4                         2                        0   \n",
       "\n",
       "   Extracurricular_Activities  Final_Exam_Score  Pass_Fail  \n",
       "0                           1                63          1  \n",
       "1                           0                50          0  \n",
       "2                           0                55          0  \n",
       "3                           0                65          1  \n",
       "4                           1                70          1  "
      ]
     },
     "execution_count": 146,
     "metadata": {},
     "output_type": "execute_result"
    }
   ],
   "source": [
    "df.head()"
   ]
  },
  {
   "cell_type": "code",
   "execution_count": 147,
   "id": "bb5c3595",
   "metadata": {},
   "outputs": [
    {
     "data": {
      "text/plain": [
       "Pass_Fail\n",
       "0    0.708\n",
       "1    0.292\n",
       "Name: proportion, dtype: float64"
      ]
     },
     "execution_count": 147,
     "metadata": {},
     "output_type": "execute_result"
    }
   ],
   "source": [
    "# check for balance\n",
    "df[\"Pass_Fail\"].value_counts(normalize=True)"
   ]
  },
  {
   "cell_type": "code",
   "execution_count": 148,
   "id": "d1ed74c2",
   "metadata": {},
   "outputs": [
    {
     "name": "stdout",
     "output_type": "stream",
     "text": [
      "accuracy: 0.9828571428571429\n",
      "f1 Score: 0.9702970297029703\n",
      "precision: 0.9607843137254902\n",
      "recall: 0.98\n",
      "r2 Score: 0.916\n",
      "confusion matrix: [[123   2]\n",
      " [  1  49]]\n"
     ]
    }
   ],
   "source": [
    "#to balance we class_weight=\"balanced\"\n",
    "param_grid={\n",
    "   \"C\":[0.01,0.1,1,10]\n",
    "}\n",
    "x=df.drop(columns=[\"Pass_Fail\"])\n",
    "y=df[\"Pass_Fail\"]\n",
    "x_train,x_test,y_train,y_test=train_test_split(x,y,test_size=0.35,random_state=42)\n",
    "grid=GridSearchCV(LogisticRegression(class_weight=\"balanced\",max_iter=5000),param_grid,cv=5,scoring=\"f1\")\n",
    "grid.fit(x_train,y_train)\n",
    "model=grid.best_estimator_\n",
    "y_pred=model.predict(x_test)\n",
    "print(\"accuracy:\",accuracy_score(y_test,y_pred))\n",
    "print(\"f1 Score:\",f1_score(y_test,y_pred))\n",
    "print(\"precision:\",precision_score(y_test,y_pred))\n",
    "print(\"recall:\",recall_score(y_test,y_pred))\n",
    "print(\"r2 Score:\",r2_score(y_test,y_pred))\n",
    "print(\"confusion matrix:\",confusion_matrix(y_test,y_pred))"
   ]
  },
  {
   "cell_type": "code",
   "execution_count": 149,
   "id": "bce15ed7",
   "metadata": {},
   "outputs": [
    {
     "data": {
      "text/html": [
       "<div>\n",
       "<style scoped>\n",
       "    .dataframe tbody tr th:only-of-type {\n",
       "        vertical-align: middle;\n",
       "    }\n",
       "\n",
       "    .dataframe tbody tr th {\n",
       "        vertical-align: top;\n",
       "    }\n",
       "\n",
       "    .dataframe thead th {\n",
       "        text-align: right;\n",
       "    }\n",
       "</style>\n",
       "<table border=\"1\" class=\"dataframe\">\n",
       "  <thead>\n",
       "    <tr style=\"text-align: right;\">\n",
       "      <th></th>\n",
       "      <th>Gender</th>\n",
       "      <th>Study_Hours_per_Week</th>\n",
       "      <th>Attendance_Rate</th>\n",
       "      <th>Past_Exam_Scores</th>\n",
       "      <th>Parental_Education_Level</th>\n",
       "      <th>Internet_Access_at_Home</th>\n",
       "      <th>Extracurricular_Activities</th>\n",
       "      <th>Final_Exam_Score</th>\n",
       "      <th>Pass_Fail</th>\n",
       "    </tr>\n",
       "  </thead>\n",
       "  <tbody>\n",
       "    <tr>\n",
       "      <th>0</th>\n",
       "      <td>1</td>\n",
       "      <td>31</td>\n",
       "      <td>68.267841</td>\n",
       "      <td>86</td>\n",
       "      <td>1</td>\n",
       "      <td>1</td>\n",
       "      <td>1</td>\n",
       "      <td>63</td>\n",
       "      <td>1</td>\n",
       "    </tr>\n",
       "    <tr>\n",
       "      <th>1</th>\n",
       "      <td>1</td>\n",
       "      <td>16</td>\n",
       "      <td>78.222927</td>\n",
       "      <td>73</td>\n",
       "      <td>3</td>\n",
       "      <td>0</td>\n",
       "      <td>0</td>\n",
       "      <td>50</td>\n",
       "      <td>0</td>\n",
       "    </tr>\n",
       "    <tr>\n",
       "      <th>2</th>\n",
       "      <td>0</td>\n",
       "      <td>21</td>\n",
       "      <td>87.525096</td>\n",
       "      <td>74</td>\n",
       "      <td>3</td>\n",
       "      <td>1</td>\n",
       "      <td>0</td>\n",
       "      <td>55</td>\n",
       "      <td>0</td>\n",
       "    </tr>\n",
       "    <tr>\n",
       "      <th>3</th>\n",
       "      <td>0</td>\n",
       "      <td>27</td>\n",
       "      <td>92.076483</td>\n",
       "      <td>99</td>\n",
       "      <td>0</td>\n",
       "      <td>0</td>\n",
       "      <td>0</td>\n",
       "      <td>65</td>\n",
       "      <td>1</td>\n",
       "    </tr>\n",
       "    <tr>\n",
       "      <th>4</th>\n",
       "      <td>0</td>\n",
       "      <td>37</td>\n",
       "      <td>98.655517</td>\n",
       "      <td>63</td>\n",
       "      <td>2</td>\n",
       "      <td>0</td>\n",
       "      <td>1</td>\n",
       "      <td>70</td>\n",
       "      <td>1</td>\n",
       "    </tr>\n",
       "  </tbody>\n",
       "</table>\n",
       "</div>"
      ],
      "text/plain": [
       "   Gender  Study_Hours_per_Week  Attendance_Rate  Past_Exam_Scores  \\\n",
       "0       1                    31        68.267841                86   \n",
       "1       1                    16        78.222927                73   \n",
       "2       0                    21        87.525096                74   \n",
       "3       0                    27        92.076483                99   \n",
       "4       0                    37        98.655517                63   \n",
       "\n",
       "   Parental_Education_Level  Internet_Access_at_Home  \\\n",
       "0                         1                        1   \n",
       "1                         3                        0   \n",
       "2                         3                        1   \n",
       "3                         0                        0   \n",
       "4                         2                        0   \n",
       "\n",
       "   Extracurricular_Activities  Final_Exam_Score  Pass_Fail  \n",
       "0                           1                63          1  \n",
       "1                           0                50          0  \n",
       "2                           0                55          0  \n",
       "3                           0                65          1  \n",
       "4                           1                70          1  "
      ]
     },
     "execution_count": 149,
     "metadata": {},
     "output_type": "execute_result"
    }
   ],
   "source": [
    "df.head()"
   ]
  },
  {
   "cell_type": "code",
   "execution_count": 152,
   "id": "a95dff09",
   "metadata": {},
   "outputs": [
    {
     "name": "stdout",
     "output_type": "stream",
     "text": [
      "[0]\n"
     ]
    },
    {
     "name": "stderr",
     "output_type": "stream",
     "text": [
      "c:\\Users\\ganesh\\anaconda4\\Lib\\site-packages\\sklearn\\utils\\validation.py:2739: UserWarning: X does not have valid feature names, but LogisticRegression was fitted with feature names\n",
      "  warnings.warn(\n"
     ]
    }
   ],
   "source": [
    "y=model.predict([[1,16,78,73,3,0,0,50]])\n",
    "print(y)"
   ]
  },
  {
   "cell_type": "code",
   "execution_count": 150,
   "id": "cb5a9907",
   "metadata": {},
   "outputs": [],
   "source": [
    "import pickle\n",
    "with open(\"model.sav\", \"wb\") as f:\n",
    "    pickle.dump((model), f)\n",
    "with open(\"model.sav\", \"rb\") as f:\n",
    "    loaded_model= pickle.load(f)"
   ]
  },
  {
   "cell_type": "code",
   "execution_count": null,
   "id": "65da10ee",
   "metadata": {},
   "outputs": [],
   "source": []
  }
 ],
 "metadata": {
  "kernelspec": {
   "display_name": "base",
   "language": "python",
   "name": "python3"
  },
  "language_info": {
   "codemirror_mode": {
    "name": "ipython",
    "version": 3
   },
   "file_extension": ".py",
   "mimetype": "text/x-python",
   "name": "python",
   "nbconvert_exporter": "python",
   "pygments_lexer": "ipython3",
   "version": "3.13.5"
  }
 },
 "nbformat": 4,
 "nbformat_minor": 5
}
